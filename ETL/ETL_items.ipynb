{
 "cells": [
  {
   "cell_type": "code",
   "execution_count": null,
   "metadata": {},
   "outputs": [],
   "source": [
    "import pandas as pd \n",
    "import ast\n"
   ]
  },
  {
   "cell_type": "code",
   "execution_count": null,
   "metadata": {},
   "outputs": [],
   "source": [
    "# Crea una lista vacía llamada data_list para almacenar los datos del archivo JSON.\n",
    "data_list = []\n",
    "\n",
    "# Especifica la ruta del archivo JSON que se va a leer.\n",
    "file_path = 'australian_users_items.json'\n",
    "\n",
    "# Abre el archivo en modo de lectura ('r') con codificación UTF-8.\n",
    "with open(file_path, 'r', encoding='utf-8') as file:\n",
    "    # Itera sobre cada línea en el archivo.\n",
    "    for line in file:\n",
    "        try:\n",
    "            # Intenta evaluar la línea como un diccionario de Python utilizando ast.literal_eval.\n",
    "            # Agrega el diccionario resultante a la lista data_list.\n",
    "            json_data = ast.literal_eval(line)\n",
    "            data_list.append(json_data)\n",
    "        except ValueError as e:\n",
    "            # Si ocurre un error al evaluar la línea, imprime un mensaje de error y continúa con la siguiente línea.\n",
    "            print(f\"Error en la línea: {line}\")\n",
    "            continue\n",
    "\n",
    "# Crea un DataFrame de pandas a partir de la lista de diccionarios almacenada en data_list.\n",
    "data_items = pd.DataFrame(data_list)"
   ]
  },
  {
   "cell_type": "code",
   "execution_count": null,
   "metadata": {},
   "outputs": [],
   "source": [
    "\n",
    "# Utiliza el método 'explode' para descomponer la columna 'items' que contiene listas en varias filas duplicando las demás columnas.\n",
    "data_items1 = data_items.explode(['items'])\n",
    "\n",
    "# Utiliza 'pd.json_normalize' para aplanar las columnas JSON anidadas dentro de la columna 'items'.\n",
    "# Luego, establece el índice de 'data_items2' para que coincida con el índice original de 'data_items1'.\n",
    "data_items2 = pd.json_normalize(data_items1['items']).set_index(data_items1['items'].index)\n",
    "\n",
    "# Combina los DataFrames 'data_items1' y 'data_items2' a lo largo de las columnas.\n",
    "data_items3 = pd.concat([data_items2, data_items1], axis=1)\n",
    "\n",
    "# Elimina columnas innecesarias: 'items_count', 'user_url', 'item_name', 'steam_id'.\n",
    "data_items3.drop(['items_count', 'user_url', 'item_name', 'steam_id'], axis=1, inplace=True)\n",
    "\n",
    "# Elimina filas con valores nulos en columnas específicas: 'item_id' y 'playtime_forever'.\n",
    "data_items3 = data_items3.dropna(subset=['item_id', 'playtime_forever'])\n",
    "\n",
    "# Elimina columnas 'items' y 'playtime_2weeks'.\n",
    "data_items3.drop(['items', 'playtime_2weeks'], axis=1, inplace=True)\n",
    "\n",
    "# Filtra las filas donde 'playtime_forever' no sea igual a 0.\n",
    "data_items3 = data_items3[data_items3['playtime_forever'] != 0]\n",
    "\n",
    "# Selecciona columnas específicas.\n",
    "data_items3 = data_items3[['user_id', 'item_id', 'playtime_forever']]\n",
    "\n",
    "# Elimina duplicados en el DataFrame.\n",
    "data_items3 = data_items3.drop_duplicates()\n",
    "\n",
    "# Elimina filas con valores nulos en todo el DataFrame.\n",
    "data_items3 = data_items3.dropna()"
   ]
  },
  {
   "cell_type": "code",
   "execution_count": null,
   "metadata": {},
   "outputs": [],
   "source": [
    "data_items3"
   ]
  },
  {
   "cell_type": "code",
   "execution_count": null,
   "metadata": {},
   "outputs": [],
   "source": [
    "data_items3.to_csv('user_items.csv', index=False)"
   ]
  }
 ],
 "metadata": {
  "language_info": {
   "name": "python"
  }
 },
 "nbformat": 4,
 "nbformat_minor": 2
}
