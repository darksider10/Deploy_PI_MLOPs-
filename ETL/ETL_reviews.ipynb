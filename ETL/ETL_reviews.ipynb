{
 "cells": [
  {
   "cell_type": "code",
   "execution_count": null,
   "metadata": {},
   "outputs": [],
   "source": [
    "import pandas as pd \n",
    "import json\n",
    "import ast\n",
    "from textblob import TextBlob"
   ]
  },
  {
   "cell_type": "code",
   "execution_count": null,
   "metadata": {},
   "outputs": [],
   "source": [
    "# Crea una lista vacía llamada data_list para almacenar los datos del archivo JSON.\n",
    "data_list = []\n",
    "\n",
    "# Especifica la ruta del archivo JSON que se va a leer.\n",
    "file_path = 'australian_user_reviews.json'\n",
    "\n",
    "# Abre el archivo en modo de lectura ('r') con codificación UTF-8.\n",
    "with open(file_path, 'r', encoding='utf-8') as file:\n",
    "    # Itera sobre cada línea en el archivo.\n",
    "    for line in file:\n",
    "        try:\n",
    "            # Intenta evaluar la línea como un diccionario de Python utilizando ast.literal_eval.\n",
    "            # Agrega el diccionario resultante a la lista data_list.\n",
    "            json_data = ast.literal_eval(line)\n",
    "            data_list.append(json_data)\n",
    "        except ValueError as e:\n",
    "            # Si ocurre un error al evaluar la línea, imprime un mensaje de error y continúa con la siguiente línea.\n",
    "            print(f\"Error en la línea: {line}\")\n",
    "            continue\n",
    "\n",
    "# Crea un DataFrame de pandas a partir de la lista de diccionarios almacenada en data_list.\n",
    "data_reviews = pd.DataFrame(data_list)"
   ]
  },
  {
   "cell_type": "code",
   "execution_count": null,
   "metadata": {},
   "outputs": [],
   "source": [
    "# Utiliza el método 'explode' para descomponer la columna 'reviews' que contiene listas en varias filas duplicando las demás columnas.\n",
    "data_reviews1 = data_reviews1.explode(['reviews'])\n",
    "\n",
    "# Aplica el método 'pd.Series' a la columna 'reviews' para expandir las listas en nuevas columnas.\n",
    "data_reviews2 = data_reviews1['reviews'].apply(pd.Series)\n",
    "\n",
    "# Combina los DataFrames 'data_reviews1' y 'data_reviews2' a lo largo de las columnas.\n",
    "data_reviews3 = pd.concat([data_reviews1, data_reviews2], axis=1)"
   ]
  },
  {
   "cell_type": "code",
   "execution_count": null,
   "metadata": {},
   "outputs": [],
   "source": [
    "\n",
    "# Extrae el año de la columna 'posted' y almacénalo en una nueva columna 'year_posted'.\n",
    "data_reviews3['year_posted'] = data_reviews3['posted'].str.extract('(\\d{4})')\n",
    "\n",
    "# Elimina columnas innecesarias\n",
    "data_reviews3.drop(['reviews', 'user_url', 'last_edited', 'funny', 'helpful', 'posted'], axis=1, inplace=True)\n",
    "\n",
    "# Elimina filas con valores nulos en columnas específicas\n",
    "data_reviews3 = data_reviews3.dropna(subset=['year_posted', 'item_id', 'review', 'recommend'])\n",
    "\n",
    "# Selecciona columnas específicas y renómbralas.\n",
    "data_reviews3 = data_reviews3[['user_id', 'item_id', 'review', 'recommend', 'year_posted', 0]]\n",
    "\n",
    "# Reemplaza valores 'False' y 'True' en la columna 'recommend' con 0 y 1, respectivamente.\n",
    "data_reviews3['recommend'] = data_reviews3['recommend'].replace({'False': 0, 'True': 1}).astype(int)\n",
    "\n",
    "# Elimina la última columna, que parece ser una columna residual después de expandir las listas.\n",
    "del data_reviews3[data_reviews3.columns[-1]]\n",
    "\n",
    "# Define una función para realizar análisis de sentimientos en la columna 'review'.\n",
    "def get_sentiment(text):\n",
    "    blob = TextBlob(text)\n",
    "    sentiment = blob.sentiment.polarity\n",
    "    if sentiment < -0.1:\n",
    "        return 0\n",
    "    elif sentiment > 0.1:\n",
    "        return 2\n",
    "    else:\n",
    "        return 1\n",
    "\n",
    "# Aplica la función 'get_sentiment' a la columna 'review' y almacena los resultados en una nueva columna 'sentiment_analysis'.\n",
    "data_reviews3['sentiment_analysis'] = data_reviews3['review'].apply(get_sentiment)\n",
    "\n",
    "# Elimina la columna original 'review' después de realizar el análisis de sentimientos.\n",
    "data_reviews3.drop(['review'], axis=1, inplace=True)\n",
    "\n",
    "# Elimina duplicados en el DataFrame.\n",
    "data_reviews3 = data_reviews3.drop_duplicates()\n",
    "\n",
    "# Elimina filas con valores nulos en todo el DataFrame.\n",
    "data_reviews3 = data_reviews3.dropna()"
   ]
  },
  {
   "cell_type": "code",
   "execution_count": null,
   "metadata": {},
   "outputs": [],
   "source": [
    "data_reviews3"
   ]
  },
  {
   "cell_type": "code",
   "execution_count": null,
   "metadata": {},
   "outputs": [],
   "source": [
    "data_reviews3.to_csv('user_reviews.csv', index=False)"
   ]
  }
 ],
 "metadata": {
  "language_info": {
   "name": "python"
  }
 },
 "nbformat": 4,
 "nbformat_minor": 2
}
